{
 "cells": [
  {
   "cell_type": "code",
   "execution_count": 14,
   "id": "e1a8a927",
   "metadata": {},
   "outputs": [
    {
     "name": "stdout",
     "output_type": "stream",
     "text": [
      "0.006787773351287142\n",
      "1.1166666666666667\n",
      "0.073282810879294\n"
     ]
    }
   ],
   "source": [
    "import numpy as np\n",
    "\n",
    "def rule1 (da, c):\n",
    "    dQ = np.abs(c)*da\n",
    "    return dQ\n",
    "\n",
    "def rule2 (c, a, da, m):\n",
    "    dQ = np.abs(c*m*a**(m-1))*da\n",
    "    return dQ\n",
    "\n",
    "def rule3(da, db):\n",
    "    dQ = np.sqrt(da**2+db**2)\n",
    "    return dQ\n",
    "\n",
    "def rule4(Q, m, n, da, a, b, db):\n",
    "    dQ = np.abs(Q)*np.sqrt((m*(da/a))**2+(n*(db/b))**2)\n",
    "    return dQ\n",
    "\n",
    "#These are the assigned varriables to calculate uncertainty in initial velocity for method 2\n",
    "m = 1\n",
    "n = -0.5\n",
    "Q = 5.06\n",
    "da = 0.003\n",
    "a = 2.277\n",
    "db = 0.0005\n",
    "b = 0.991\n",
    "errtotal = rule4(Q, m, n, da, a, b, db)\n",
    "print (errtotal)\n",
    "\n",
    "#When this code is run 0.006787 is given. In the lab we calculated the uncertainty of initial velocity\n",
    "#to be 0.00657. Although they don't seem exactly the same I believe these values to be the same, the \n",
    "#only difference being in rounding calcualtions during the procedure.  \n",
    "\n",
    "\n",
    "x = (1.1, 1.3, 1.4, 0.9, 0.95, 1.05)\n",
    "xmean = np.average(x)\n",
    "errx = (np.std(x))/(np.sqrt(6))\n",
    "print (xmean)\n",
    "print (errx)\n",
    "\n",
    "#When this code is run, xmean, or the average value of x, is 1.116 \n",
    "#errx, or the uncertainty in x, is 0.0732\n"
   ]
  },
  {
   "cell_type": "markdown",
   "id": "1ff23f13",
   "metadata": {},
   "source": [
    "$\\delta Q = \\sqrt{(\\delta A)^2+(\\delta B)^2}$\n",
    "\n",
    "$\\nu_{i} = x\\sqrt{\\frac{g}{2y}}$ "
   ]
  },
  {
   "cell_type": "code",
   "execution_count": null,
   "id": "a1d39f0a",
   "metadata": {},
   "outputs": [],
   "source": []
  }
 ],
 "metadata": {
  "kernelspec": {
   "display_name": "Python 3",
   "language": "python",
   "name": "python3"
  },
  "language_info": {
   "codemirror_mode": {
    "name": "ipython",
    "version": 3
   },
   "file_extension": ".py",
   "mimetype": "text/x-python",
   "name": "python",
   "nbconvert_exporter": "python",
   "pygments_lexer": "ipython3",
   "version": "3.8.8"
  }
 },
 "nbformat": 4,
 "nbformat_minor": 5
}
